{
 "cells": [
  {
   "cell_type": "code",
   "execution_count": 1,
   "metadata": {},
   "outputs": [],
   "source": [
    "#imports modules needed to go through a csv file\n",
    "import os\n",
    "import csv"
   ]
  },
  {
   "cell_type": "code",
   "execution_count": 3,
   "metadata": {},
   "outputs": [],
   "source": [
    "#take this one step at a time\n",
    "#creates path to the csv file\n",
    "datapath = os.path.join(\"..\", \"Resources\", \"election_data.csv\") "
   ]
  },
  {
   "cell_type": "code",
   "execution_count": 27,
   "metadata": {},
   "outputs": [
    {
     "name": "stdout",
     "output_type": "stream",
     "text": [
      "Election Results\n",
      "*~*~*~*~*~*~*~*~*~*\n",
      "Total votes: 369711\n",
      "*~*~*~*~*~*~*~*~*~*\n",
      "Charles Casper Stockham: 23.05 (85213)\n",
      "Diana DeGette: 73.81 (272892)\n",
      "Raymon Anthony Doane: 3.14 (11606)\n",
      "*~*~*~*~*~*~*~*~*~*\n",
      "Winner: Diana DeGette\n"
     ]
    }
   ],
   "source": [
    "#opens the file\n",
    "with open(datapath, encoding = 'UTF-8') as referencetofile:\n",
    "    csvreader = csv.reader(referencetofile, delimiter = \",\")\n",
    "\n",
    "    consumeheader = next(csvreader)\n",
    "\n",
    "#with this code, I'm doing it all together by pre-planning it all\n",
    "#i wrote out the steps and possible solutions on a notebook then executed it\n",
    "\n",
    "    winningvote = []\n",
    "\n",
    "    totalvotes = 0\n",
    "    for eachrow in csvreader:\n",
    "        totalvotes = totalvotes + 1\n",
    "\n",
    "        winningvote.append(eachrow[2])\n",
    "    \n",
    "    ch = winningvote.count(\"Charles Casper Stockham\")\n",
    "    di = winningvote.count(\"Diana DeGette\")\n",
    "    ray = winningvote.count(\"Raymon Anthony Doane\")\n",
    "\n",
    "    if ch > di and ch > ray:\n",
    "        winner = \"Charles Casper Stockham\"\n",
    "    elif di > ray and di > ch:\n",
    "        winner = \"Diana DeGette\"\n",
    "    elif ray > ch and ray > di:\n",
    "        winner = \"Raymon Anthony Doane\"\n",
    "\n",
    "    chdiv = (ch / totalvotes)*100\n",
    "    didiv = (di / totalvotes)*100\n",
    "    raydiv = (ray / totalvotes)*100\n",
    "\n",
    "    chdiv = round(chdiv, 2)\n",
    "    didiv = round(didiv, 2)\n",
    "    raydiv = round(raydiv, 2)\n",
    "\n",
    "    print(\"Election Results\")\n",
    "    print (\"*~*~*~*~*~*~*~*~*~*\")\n",
    "    print(\"Total votes: \" + str(totalvotes))    \n",
    "    print (\"*~*~*~*~*~*~*~*~*~*\")\n",
    "    print(\"Charles Casper Stockham: \" + str(chdiv) + \" (\" + str(ch) + \")\")\n",
    "    print(\"Diana DeGette: \" + str(didiv) + \" (\" + str(di)+ \")\")\n",
    "    print(\"Raymon Anthony Doane: \" + str(raydiv) + \" (\" + str(ray) + \")\")    \n",
    "    print (\"*~*~*~*~*~*~*~*~*~*\")\n",
    "    print(\"Winner: \" + winner)\n",
    "\n",
    "\n"
   ]
  },
  {
   "cell_type": "code",
   "execution_count": 26,
   "metadata": {},
   "outputs": [],
   "source": [
    "with open('ElectionResults.txt', 'w') as f:\n",
    "    f.write(\"Election Results\")\n",
    "    f.write(\"\\n\")\n",
    "    f.write(\"*~*~*~*~*~*~*~*~*~*\")\n",
    "    f.write(\"\\n\")\n",
    "    f.write(\"Total votes: \" + str(totalvotes))     \n",
    "    f.write(\"\\n\")\n",
    "    f.write(\"*~*~*~*~*~*~*~*~*~*\")\n",
    "    f.write(\"\\n\")\n",
    "    f.write(\"Charles Casper Stockham: \" + str(chdiv) + \" (\" + str(ch) + \")\")\n",
    "    f.write(\"\\n\")\n",
    "    f.write(\"Diana DeGette: \" + str(didiv) + \" (\" + str(di)+ \")\")\n",
    "    f.write(\"\\n\")\n",
    "    f.write(\"Raymon Anthony Doane: \" + str(raydiv) + \" (\" + str(ray) + \")\")\n",
    "    f.write(\"\\n\")\n",
    "    f.write(\"*~*~*~*~*~*~*~*~*~*\")\n",
    "    f.write(\"\\n\")\n",
    "    f.write(\"Winner: \" + winner)\n",
    "\n"
   ]
  }
 ],
 "metadata": {
  "kernelspec": {
   "display_name": "base",
   "language": "python",
   "name": "python3"
  },
  "language_info": {
   "codemirror_mode": {
    "name": "ipython",
    "version": 3
   },
   "file_extension": ".py",
   "mimetype": "text/x-python",
   "name": "python",
   "nbconvert_exporter": "python",
   "pygments_lexer": "ipython3",
   "version": "3.11.5"
  }
 },
 "nbformat": 4,
 "nbformat_minor": 2
}
