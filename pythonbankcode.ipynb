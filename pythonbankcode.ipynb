{
 "cells": [
  {
   "cell_type": "code",
   "execution_count": 2,
   "metadata": {},
   "outputs": [],
   "source": [
    "#imports modules needed to go through a csv file\n",
    "import os\n",
    "import csv"
   ]
  },
  {
   "cell_type": "code",
   "execution_count": 3,
   "metadata": {},
   "outputs": [],
   "source": [
    "#take this one step at a time\n",
    "#creates path to the csv file\n",
    "pathtodata = os.path.join(\"..\", \"Resources\", \"budget_data.csv\") "
   ]
  },
  {
   "cell_type": "code",
   "execution_count": 10,
   "metadata": {},
   "outputs": [
    {
     "name": "stdout",
     "output_type": "stream",
     "text": [
      "Financial Analysis\n",
      "*~*~*~*~*~*~*~*~*~*\n",
      "Total Months: 86\n",
      "Total: $22564198\n",
      "Average Change:  $-8311.11\n",
      "Greatest Increase in Profits: Aug-16 $1862002\n",
      "Greatest Decrease in Profits: Feb-14 $-1825558\n"
     ]
    }
   ],
   "source": [
    "#opens the file\n",
    "with open(pathtodata, encoding = 'UTF-8') as referencetofile:\n",
    "    csvreader = csv.reader(referencetofile, delimiter = \",\")\n",
    "\n",
    "    consumeheader = next(csvreader)\n",
    "\n",
    "#the x will count the months (86 total, not 12)\n",
    "    x = 0\n",
    "    total = 0\n",
    "    listofchange = []\n",
    "    for eachrow in csvreader:\n",
    "        x = x + 1\n",
    "        total = total + int(eachrow[1])\n",
    "#successfully prints number of months\n",
    "#successfully prints total\n",
    "        listofchange.append(int(eachrow[1]))\n",
    "\n",
    "    diff = 0\n",
    "    tot = 0\n",
    "    gripro = 0\n",
    "    grdpro = 0\n",
    "\n",
    "#finds average change and also greatest increase and decrease\n",
    "    for j in range(x):\n",
    "        if j == (x-1):\n",
    "            meanchange = tot / (x-1)\n",
    "        if j <= (x-2):\n",
    "            diff = listofchange[j+1] - listofchange[j]\n",
    "            tot = tot + diff\n",
    "\n",
    "            if diff > gripro:\n",
    "                gripro = diff\n",
    "                incmonth =  j\n",
    "            if diff < grdpro:\n",
    "                grdpro = diff\n",
    "                decmonth = j \n",
    "    \n",
    "    #used range plus starts counting from zero so have to adjust it...   \n",
    "    correctdecmonth = decmonth+3\n",
    "    correctincmonth = incmonth+3\n",
    "\n",
    "#print statements at the end but before the file closes\n",
    "    print(\"Financial Analysis\")\n",
    "    print (\"*~*~*~*~*~*~*~*~*~*\")\n",
    "    print(\"Total Months: \" + str(x))\n",
    "    print(\"Total: $\" + str(total))\n",
    "    meanchange = round(meanchange, 2)\n",
    "    print(\"Average Change:  $\" + str(meanchange))\n",
    "\n",
    "#had to reopen file to work on it again, couldn't figure out how to do it under one 'open'\n",
    "with open(pathtodata, encoding = 'UTF-8') as referencetofile:\n",
    "    csvreader2 = csv.reader(referencetofile, delimiter = \",\")\n",
    "\n",
    "    consumeheader2 = next(csvreader2)\n",
    "\n",
    "    a = 0\n",
    "    for row in csvreader2:\n",
    "        if a == decmonth+1:\n",
    "            dadecmonth = row[0]\n",
    "        if a == incmonth+1:\n",
    "            daincmonth = row[0]\n",
    "        a = a+1\n",
    "\n",
    "    print (\"Greatest Increase in Profits: \" + daincmonth + \" $\" + str(gripro))\n",
    "    print (\"Greatest Decrease in Profits: \" + dadecmonth + \" $\" + str(grdpro))\n",
    "\n",
    "#I know the code is overcomplicated but it works! I made it work!!!\n"
   ]
  },
  {
   "cell_type": "code",
   "execution_count": 14,
   "metadata": {},
   "outputs": [],
   "source": [
    "with open('FinancialAnalysisResults.txt', 'w') as f:\n",
    "    f.write(\"Financial Analysis\")\n",
    "    f.write(\"\\n\")\n",
    "    f.write(\"*~*~*~*~*~*~*~*~*~*\")\n",
    "    f.write(\"\\n\")\n",
    "    f.write(\"Total Months: \" + str(x))\n",
    "    f.write(\"\\n\")\n",
    "    f.write(\"Total: $\" + str(total))\n",
    "    f.write(\"\\n\")\n",
    "    f.write(\"Average Change:  $\" + str(meanchange))\n",
    "    f.write(\"\\n\")\n",
    "    f.write(\"Greatest Increase in Profits: \" + daincmonth + \" $\" + str(gripro))\n",
    "    f.write(\"\\n\")\n",
    "    f.write(\"Greatest Decrease in Profits: \" + dadecmonth + \" $\" + str(grdpro))\n",
    "    "
   ]
  }
 ],
 "metadata": {
  "kernelspec": {
   "display_name": "base",
   "language": "python",
   "name": "python3"
  },
  "language_info": {
   "codemirror_mode": {
    "name": "ipython",
    "version": 3
   },
   "file_extension": ".py",
   "mimetype": "text/x-python",
   "name": "python",
   "nbconvert_exporter": "python",
   "pygments_lexer": "ipython3",
   "version": "3.11.5"
  }
 },
 "nbformat": 4,
 "nbformat_minor": 2
}
